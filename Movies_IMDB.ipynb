{
 "cells": [
  {
   "cell_type": "markdown",
   "metadata": {},
   "source": [
    "# Project: TMDB-movies\n",
    "\n",
    "## Table of Contents\n",
    "<ul>\n",
    "<li><a href=\"#intro\">Introduction</a></li>\n",
    "<li><a href=\"#wrangling\">Data Wrangling</a></li>\n",
    "<li><a href=\"#eda\">Exploratory Data Analysis</a></li>\n",
    "<li><a href=\"#conclusions\">Conclusions</a></li>\n",
    "</ul>"
   ]
  },
  {
   "cell_type": "markdown",
   "metadata": {},
   "source": [
    "<a id='intro'></a>\n",
    "## Introduction\n",
    "### Dataset Description \n",
    "This data set contains information about 10,000 movies collected from The Movie Database (TMDb), including user ratings and revenue.\n",
    "\n",
    "I will be investigating the TMDB Movies dataset to tackle the cinema industry and find insights and correlations between profit, popularity and IMDB rating along with the: Genres, Cast and directors.\n",
    "### Question(s) for Analysis\n",
    ">**Q1**: Whih actors participate in the highest profit movies ?\n",
    "\n",
    "> **Q2**: Which directors participate in the highest profitable movies and with what genres ?\n",
    "\n",
    "> **Q3** Does the vote rating and audience popularity has a direct relation ? And how is this relation presented in profit ?"
   ]
  },
  {
   "cell_type": "markdown",
   "metadata": {},
   "source": [
    "### *Data column Description* : \n",
    "#### below is the Data set Columns Description. I highlighted the <mark>*interesting*</mark> characteristics according to my point of view.\n",
    "\n",
    "\n",
    "|Column Number||Column name||Description|\n",
    "|:-------------||:-----------||:-----------|\n",
    "|0||id||ID for the movie in the dataset |\n",
    "|1||imdb_id||The Imdb ID|\n",
    "|2||<mark>**popularity**</mark>||Assuming popularity of movies in percentage values|\n",
    "|3||budget||The budget value with respect to nowadays|\n",
    "|4||revenue||The Revenue value with respect to nowadays|\n",
    "|5||<mark>**original_title**</mark>||The original movie title |\n",
    "|6||<mark>**cast**</mark>||Cast|\n",
    "|7||homepage||Movie's website |\n",
    "|8||<mark>**director**</mark>||Director|\n",
    "|9||tagline||Tag line under the movie|\n",
    "|10||<mark>**keywords**</mark>||Key words rekeveant to movie's vibes and Genre|\n",
    "|11||overview||Or headline or Intro|\n",
    "|12||runtime||Length of the movie in minutes|\n",
    "|13||<mark>**genres**</mark>||genre/genres of the movie|\n",
    "|14||<mark>**production_companies**</mark>||Production company/Production companies|\n",
    "|15||release_date||The release date|\n",
    "|16||<mark>**vote_count**</mark>||Number of votes|\n",
    "|17||<mark>**vote_average**</mark>||Average voting|\n",
    "|18||release_year||Release year|\n",
    "|19||<mark>**budget_adj**</mark>||The budget value with respect to 2010 US dollars|\n",
    "|20||<mark>**revenue_adj**</mark>||The budget value with respect to 2010 US dollars|"
   ]
  },
  {
   "cell_type": "code",
   "execution_count": 5,
   "metadata": {},
   "outputs": [],
   "source": [
    "import pandas as pd\n",
    "import numpy as np \n",
    "import matplotlib.pyplot as plt\n",
    "# matplotlib inline\n",
    "%matplotlib inline"
   ]
  },
  {
   "cell_type": "markdown",
   "metadata": {},
   "source": [
    "<a id='wrangling'></a>\n",
    "## Data Wrangling"
   ]
  },
  {
   "cell_type": "code",
   "execution_count": 76,
   "metadata": {},
   "outputs": [
    {
     "data": {
      "text/html": [
       "<div>\n",
       "<style scoped>\n",
       "    .dataframe tbody tr th:only-of-type {\n",
       "        vertical-align: middle;\n",
       "    }\n",
       "\n",
       "    .dataframe tbody tr th {\n",
       "        vertical-align: top;\n",
       "    }\n",
       "\n",
       "    .dataframe thead th {\n",
       "        text-align: right;\n",
       "    }\n",
       "</style>\n",
       "<table border=\"1\" class=\"dataframe\">\n",
       "  <thead>\n",
       "    <tr style=\"text-align: right;\">\n",
       "      <th></th>\n",
       "      <th>id</th>\n",
       "      <th>imdb_id</th>\n",
       "      <th>popularity</th>\n",
       "      <th>budget</th>\n",
       "      <th>revenue</th>\n",
       "      <th>original_title</th>\n",
       "      <th>cast</th>\n",
       "      <th>homepage</th>\n",
       "      <th>director</th>\n",
       "      <th>tagline</th>\n",
       "      <th>...</th>\n",
       "      <th>overview</th>\n",
       "      <th>runtime</th>\n",
       "      <th>genres</th>\n",
       "      <th>production_companies</th>\n",
       "      <th>release_date</th>\n",
       "      <th>vote_count</th>\n",
       "      <th>vote_average</th>\n",
       "      <th>release_year</th>\n",
       "      <th>budget_adj</th>\n",
       "      <th>revenue_adj</th>\n",
       "    </tr>\n",
       "  </thead>\n",
       "  <tbody>\n",
       "    <tr>\n",
       "      <th>0</th>\n",
       "      <td>135397</td>\n",
       "      <td>tt0369610</td>\n",
       "      <td>32.985763</td>\n",
       "      <td>150000000</td>\n",
       "      <td>1513528810</td>\n",
       "      <td>Jurassic World</td>\n",
       "      <td>Chris Pratt|Bryce Dallas Howard|Irrfan Khan|Vi...</td>\n",
       "      <td>http://www.jurassicworld.com/</td>\n",
       "      <td>Colin Trevorrow</td>\n",
       "      <td>The park is open.</td>\n",
       "      <td>...</td>\n",
       "      <td>Twenty-two years after the events of Jurassic ...</td>\n",
       "      <td>124</td>\n",
       "      <td>Action|Adventure|Science Fiction|Thriller</td>\n",
       "      <td>Universal Studios|Amblin Entertainment|Legenda...</td>\n",
       "      <td>6/9/15</td>\n",
       "      <td>5562</td>\n",
       "      <td>6.5</td>\n",
       "      <td>2015</td>\n",
       "      <td>1.379999e+08</td>\n",
       "      <td>1.392446e+09</td>\n",
       "    </tr>\n",
       "  </tbody>\n",
       "</table>\n",
       "<p>1 rows × 21 columns</p>\n",
       "</div>"
      ],
      "text/plain": [
       "       id    imdb_id  popularity     budget     revenue  original_title  \\\n",
       "0  135397  tt0369610   32.985763  150000000  1513528810  Jurassic World   \n",
       "\n",
       "                                                cast  \\\n",
       "0  Chris Pratt|Bryce Dallas Howard|Irrfan Khan|Vi...   \n",
       "\n",
       "                        homepage         director            tagline  ...  \\\n",
       "0  http://www.jurassicworld.com/  Colin Trevorrow  The park is open.  ...   \n",
       "\n",
       "                                            overview runtime  \\\n",
       "0  Twenty-two years after the events of Jurassic ...     124   \n",
       "\n",
       "                                      genres  \\\n",
       "0  Action|Adventure|Science Fiction|Thriller   \n",
       "\n",
       "                                production_companies release_date vote_count  \\\n",
       "0  Universal Studios|Amblin Entertainment|Legenda...       6/9/15       5562   \n",
       "\n",
       "   vote_average  release_year    budget_adj   revenue_adj  \n",
       "0           6.5          2015  1.379999e+08  1.392446e+09  \n",
       "\n",
       "[1 rows x 21 columns]"
      ]
     },
     "execution_count": 76,
     "metadata": {},
     "output_type": "execute_result"
    }
   ],
   "source": [
    "df = pd.read_csv('tmdb-movies.csv')\n",
    "df.head(1)"
   ]
  },
  {
   "cell_type": "code",
   "execution_count": 80,
   "metadata": {},
   "outputs": [
    {
     "data": {
      "text/plain": [
       "count    10866.000000\n",
       "mean         0.646441\n",
       "std          1.000185\n",
       "min          0.000065\n",
       "25%          0.207583\n",
       "50%          0.383856\n",
       "75%          0.713817\n",
       "max         32.985763\n",
       "Name: popularity, dtype: float64"
      ]
     },
     "execution_count": 80,
     "metadata": {},
     "output_type": "execute_result"
    }
   ],
   "source": [
    "df.popularity.describe()"
   ]
  },
  {
   "cell_type": "code",
   "execution_count": null,
   "metadata": {
    "scrolled": true
   },
   "outputs": [],
   "source": [
    "df.shape"
   ]
  },
  {
   "cell_type": "code",
   "execution_count": null,
   "metadata": {
    "scrolled": true
   },
   "outputs": [],
   "source": [
    "df.describe()"
   ]
  },
  {
   "cell_type": "code",
   "execution_count": null,
   "metadata": {},
   "outputs": [],
   "source": [
    "df.shape"
   ]
  },
  {
   "cell_type": "markdown",
   "metadata": {},
   "source": [
    "\n",
    "### Data Cleaning \n",
    "> **1**: I will drop the Budget and Revenue columns because it's more significant to use the adjusted 2010  US$ values."
   ]
  },
  {
   "cell_type": "code",
   "execution_count": null,
   "metadata": {
    "scrolled": false
   },
   "outputs": [],
   "source": [
    "df.drop(columns=['budget', 'revenue'], inplace=True)\n",
    "df.head(1)"
   ]
  },
  {
   "cell_type": "markdown",
   "metadata": {},
   "source": [
    "> **2**: Checking NAN values"
   ]
  },
  {
   "cell_type": "code",
   "execution_count": null,
   "metadata": {
    "scrolled": false
   },
   "outputs": [],
   "source": [
    "df.isna().sum().sort_values(ascending=False)"
   ]
  },
  {
   "cell_type": "markdown",
   "metadata": {},
   "source": [
    "<br>1- As shown above, the charectristic with the highest **nan** values is the homepage. which is important but not mandatory in my analysis. Instead of just deleting its equivalent row values I will just replace them with **\"None\"**.\n",
    "<br>2- I will also do the same for **tagline** and **production companies**.\n",
    "<br>3- I will delete the union of the **nan** values in the following rows ==> **cast, director, genres, imdb_id** and **overview**\n",
    "<br>4- I will replace the nan values found in **keywords** with those found in their respective **genre**, as genres and keywords are a little bit alike."
   ]
  },
  {
   "cell_type": "code",
   "execution_count": null,
   "metadata": {},
   "outputs": [],
   "source": [
    "df.homepage.fillna('None', inplace=True)\n",
    "df.tagline.fillna('None', inplace=True)\n",
    "df.production_companies.fillna('None', inplace=True)"
   ]
  },
  {
   "cell_type": "code",
   "execution_count": null,
   "metadata": {},
   "outputs": [],
   "source": [
    "df.dropna(subset=['cast', 'director', 'genres', 'imdb_id', 'overview'], how='any', inplace=True)"
   ]
  },
  {
   "cell_type": "code",
   "execution_count": null,
   "metadata": {
    "scrolled": true
   },
   "outputs": [],
   "source": [
    "df.keywords.fillna(df.genres, inplace=True)\n",
    "df.isna().sum().any()"
   ]
  },
  {
   "cell_type": "code",
   "execution_count": null,
   "metadata": {},
   "outputs": [],
   "source": [
    "df.shape"
   ]
  },
  {
   "cell_type": "code",
   "execution_count": null,
   "metadata": {},
   "outputs": [],
   "source": [
    "df.duplicated().sum()"
   ]
  },
  {
   "cell_type": "code",
   "execution_count": null,
   "metadata": {
    "scrolled": false
   },
   "outputs": [],
   "source": [
    "df.drop_duplicates(inplace=True)\n",
    "df.shape"
   ]
  },
  {
   "cell_type": "markdown",
   "metadata": {},
   "source": [
    "> **3**: Checking Dtypes"
   ]
  },
  {
   "cell_type": "code",
   "execution_count": null,
   "metadata": {
    "scrolled": true
   },
   "outputs": [],
   "source": [
    "df.info()"
   ]
  },
  {
   "cell_type": "markdown",
   "metadata": {},
   "source": [
    "I will convert the following dtypes: release_date ==> date time"
   ]
  },
  {
   "cell_type": "code",
   "execution_count": null,
   "metadata": {},
   "outputs": [],
   "source": [
    "df.release_date = pd.to_datetime(df.release_date)\n",
    "df.release_date.dtype"
   ]
  },
  {
   "cell_type": "markdown",
   "metadata": {},
   "source": [
    "> **4**: Add the profit Column"
   ]
  },
  {
   "cell_type": "code",
   "execution_count": null,
   "metadata": {},
   "outputs": [],
   "source": [
    "df['profit'] = df['revenue_adj'] - df['budget_adj']"
   ]
  },
  {
   "cell_type": "markdown",
   "metadata": {},
   "source": [
    "> **5**: Reset the index to avoid any indexing errors or mis interpretation "
   ]
  },
  {
   "cell_type": "code",
   "execution_count": null,
   "metadata": {},
   "outputs": [],
   "source": [
    "df.reset_index(inplace=True)"
   ]
  },
  {
   "cell_type": "code",
   "execution_count": null,
   "metadata": {
    "scrolled": false
   },
   "outputs": [],
   "source": [
    "df.drop(columns=['index'], inplace=True)\n",
    "df.head(1)"
   ]
  },
  {
   "cell_type": "markdown",
   "metadata": {},
   "source": [
    "> **6**: Deal with any pipe separated values in all the columns"
   ]
  },
  {
   "cell_type": "code",
   "execution_count": null,
   "metadata": {
    "scrolled": false
   },
   "outputs": [],
   "source": [
    "pipe_separated_columns = []\n",
    "for column in df.columns:\n",
    "    if df[column].dtype == object:\n",
    "        for i, value in enumerate(df[column]):\n",
    "            if \"|\" in value:\n",
    "                if column not in pipe_separated_columns:\n",
    "                    pipe_separated_columns.append(column)\n",
    "pipe_separated_columns"
   ]
  },
  {
   "cell_type": "markdown",
   "metadata": {},
   "source": [
    "##### We are only interested in cast, director and genres"
   ]
  },
  {
   "cell_type": "code",
   "execution_count": null,
   "metadata": {
    "scrolled": false
   },
   "outputs": [],
   "source": [
    "# This Cell Takes long time and saving the dataframes to csv does not save the dtype of lists. There for I will use it\n",
    "# sequencally in the Data wrangling process.\n",
    "cast_errors = []\n",
    "director_errors = []\n",
    "genres_errors = []\n",
    "for column in pipe_separated_columns:\n",
    "    if column in ['cast', 'director', 'genres']:\n",
    "        print(column)\n",
    "        for i in range(len(df[column])):\n",
    "            try:\n",
    "                df[column][i] = df[column].str.split('|')[i] # ==> No need for the index i here ?\n",
    "                #df[column] = df[column].str.split('|')\n",
    "                #print(\"i ==> {}\\ncolumn name ==> {}\\nColumn first element type ==> {}\\nColumn first element value ==> {}\".format(i, column, type(df[column][0]), df[column][0]))\n",
    "            except:\n",
    "                if column == 'cast':\n",
    "                    cast_errors.append(i)\n",
    "                if column == 'director':\n",
    "                    director_errors.append(i)\n",
    "                if column == 'genres':\n",
    "                    genres_errors.append(i)"
   ]
  },
  {
   "cell_type": "code",
   "execution_count": null,
   "metadata": {},
   "outputs": [],
   "source": [
    "dict_errors = {'cast_errors':cast_errors, 'director_errors':director_errors, 'genres_errors': genres_errors}\n",
    "df_pipe_errors = pd.DataFrame(dict_errors)"
   ]
  },
  {
   "cell_type": "code",
   "execution_count": null,
   "metadata": {},
   "outputs": [],
   "source": [
    "df_pipe_errors.to_csv(\"pipe_separated_row_errors.csv\")"
   ]
  },
  {
   "cell_type": "code",
   "execution_count": null,
   "metadata": {},
   "outputs": [],
   "source": [
    "unique_cast = []\n",
    "unique_directors = []\n",
    "unique_genres = []\n",
    "variables = ['cast', 'genres', 'director']\n",
    "for column in variables:\n",
    "    for i in range(len(df[column])):\n",
    "        if i not in cast_errors:\n",
    "            try:\n",
    "                if column == 'cast':\n",
    "                    for actor in df[column][i]:\n",
    "                        if actor not in unique_cast:\n",
    "                            unique_cast.append(actor)\n",
    "                elif column == 'genres':\n",
    "                    for genre in df[column][i]:\n",
    "                        if genre not in unique_genres:\n",
    "                            unique_genres.append(genre)\n",
    "                else:\n",
    "                    for director in df[column][i]:\n",
    "                        if director not in unique_directors:\n",
    "                            unique_directors.append(director)\n",
    "            except:\n",
    "                print(i, column)"
   ]
  },
  {
   "cell_type": "code",
   "execution_count": null,
   "metadata": {},
   "outputs": [],
   "source": [
    "cast_dict = {key:0 for key in unique_cast}\n",
    "director_dict = {key:0 for key in unique_directors}\n",
    "genre_dict = {key:0 for key in unique_genres}\n",
    "\n",
    "variables = ['cast', 'genres', 'director']\n",
    "for column in variables:\n",
    "    for i in range(len(df[column])):\n",
    "        if i not in cast_errors:\n",
    "            try:\n",
    "                if column == 'cast':\n",
    "                    for actor in df[column][i]:\n",
    "                        cast_dict[actor] += 1\n",
    "                elif column == 'genres':\n",
    "                    for genre in df[column][i]:\n",
    "                        genre_dict[genre] += 1\n",
    "                else:\n",
    "                    for director in df[column][i]:\n",
    "                        director_dict[director] += 1\n",
    "            except:\n",
    "                print(i, column)"
   ]
  },
  {
   "cell_type": "code",
   "execution_count": null,
   "metadata": {},
   "outputs": [],
   "source": [
    "with open('cast.txt', 'w', encoding='utf-8') as file:\n",
    "    for key, value in cast_dict.items():\n",
    "        file.write(key + ' : ' + str(value) + '\\n')"
   ]
  },
  {
   "cell_type": "code",
   "execution_count": null,
   "metadata": {},
   "outputs": [],
   "source": [
    "with open('genre.txt', 'w', encoding='utf-8') as file:\n",
    "    for key, value in genre_dict.items():\n",
    "        file.write(key + ' : ' + str(value) + '\\n')"
   ]
  },
  {
   "cell_type": "code",
   "execution_count": null,
   "metadata": {},
   "outputs": [],
   "source": [
    "with open('director.txt', 'w', encoding='utf-8') as file:\n",
    "    for key, value in director_dict.items():\n",
    "        file.write(key + ' : ' + str(value) + '\\n')"
   ]
  },
  {
   "cell_type": "markdown",
   "metadata": {},
   "source": [
    "<a id='eda'></a>\n",
    "## Exploratory Data Analysis\n",
    "\n",
    "\n",
    "### Research Question 1 (Which Genres are most popular from time to time ?)"
   ]
  },
  {
   "cell_type": "code",
   "execution_count": 6,
   "metadata": {},
   "outputs": [],
   "source": [
    "df_genre = pd.read_csv('df_main_clean.csv', index_col=[0])"
   ]
  },
  {
   "cell_type": "code",
   "execution_count": 7,
   "metadata": {},
   "outputs": [
    {
     "data": {
      "text/html": [
       "<div>\n",
       "<style scoped>\n",
       "    .dataframe tbody tr th:only-of-type {\n",
       "        vertical-align: middle;\n",
       "    }\n",
       "\n",
       "    .dataframe tbody tr th {\n",
       "        vertical-align: top;\n",
       "    }\n",
       "\n",
       "    .dataframe thead th {\n",
       "        text-align: right;\n",
       "    }\n",
       "</style>\n",
       "<table border=\"1\" class=\"dataframe\">\n",
       "  <thead>\n",
       "    <tr style=\"text-align: right;\">\n",
       "      <th></th>\n",
       "      <th>popularity</th>\n",
       "      <th>original_title</th>\n",
       "      <th>cast</th>\n",
       "      <th>director</th>\n",
       "      <th>keywords</th>\n",
       "      <th>runtime</th>\n",
       "      <th>genres</th>\n",
       "      <th>production_companies</th>\n",
       "      <th>release_date</th>\n",
       "      <th>vote_count</th>\n",
       "      <th>vote_average</th>\n",
       "      <th>release_year</th>\n",
       "      <th>budget_adj</th>\n",
       "      <th>revenue_adj</th>\n",
       "      <th>profit</th>\n",
       "    </tr>\n",
       "  </thead>\n",
       "  <tbody>\n",
       "    <tr>\n",
       "      <th>0</th>\n",
       "      <td>32.985763</td>\n",
       "      <td>Jurassic World</td>\n",
       "      <td>Chris Pratt|Bryce Dallas Howard|Irrfan Khan|Vi...</td>\n",
       "      <td>Colin Trevorrow</td>\n",
       "      <td>monster|dna|tyrannosaurus rex|velociraptor|island</td>\n",
       "      <td>124</td>\n",
       "      <td>Action|Adventure|Science Fiction|Thriller</td>\n",
       "      <td>Universal Studios|Amblin Entertainment|Legenda...</td>\n",
       "      <td>2015-06-09</td>\n",
       "      <td>5562</td>\n",
       "      <td>6.5</td>\n",
       "      <td>2015</td>\n",
       "      <td>1.379999e+08</td>\n",
       "      <td>1.392446e+09</td>\n",
       "      <td>1.254446e+09</td>\n",
       "    </tr>\n",
       "  </tbody>\n",
       "</table>\n",
       "</div>"
      ],
      "text/plain": [
       "   popularity  original_title  \\\n",
       "0   32.985763  Jurassic World   \n",
       "\n",
       "                                                cast         director  \\\n",
       "0  Chris Pratt|Bryce Dallas Howard|Irrfan Khan|Vi...  Colin Trevorrow   \n",
       "\n",
       "                                            keywords  runtime  \\\n",
       "0  monster|dna|tyrannosaurus rex|velociraptor|island      124   \n",
       "\n",
       "                                      genres  \\\n",
       "0  Action|Adventure|Science Fiction|Thriller   \n",
       "\n",
       "                                production_companies release_date  vote_count  \\\n",
       "0  Universal Studios|Amblin Entertainment|Legenda...   2015-06-09        5562   \n",
       "\n",
       "   vote_average  release_year    budget_adj   revenue_adj        profit  \n",
       "0           6.5          2015  1.379999e+08  1.392446e+09  1.254446e+09  "
      ]
     },
     "execution_count": 7,
     "metadata": {},
     "output_type": "execute_result"
    }
   ],
   "source": [
    "df_genre.head(1)"
   ]
  },
  {
   "cell_type": "code",
   "execution_count": 8,
   "metadata": {},
   "outputs": [],
   "source": [
    "bin_edges = [int(df_genre.release_year.describe()[3]), int(df_genre.release_year.describe()[4]), int(df_genre.release_year.describe()[5]), int(df_genre.release_year.describe()[6]), int(df_genre.release_year.describe()[7])]\n",
    "bin_labels = [ '1960-1994', '1994-2005', '2005-2011', '2011-2015']\n",
    "df_genre['year_bins'] = pd.cut(x=df_genre.release_year, bins=bin_edges, labels=bin_labels)"
   ]
  },
  {
   "cell_type": "code",
   "execution_count": 9,
   "metadata": {
    "scrolled": true
   },
   "outputs": [
    {
     "data": {
      "text/html": [
       "<div>\n",
       "<style scoped>\n",
       "    .dataframe tbody tr th:only-of-type {\n",
       "        vertical-align: middle;\n",
       "    }\n",
       "\n",
       "    .dataframe tbody tr th {\n",
       "        vertical-align: top;\n",
       "    }\n",
       "\n",
       "    .dataframe thead th {\n",
       "        text-align: right;\n",
       "    }\n",
       "</style>\n",
       "<table border=\"1\" class=\"dataframe\">\n",
       "  <thead>\n",
       "    <tr style=\"text-align: right;\">\n",
       "      <th></th>\n",
       "      <th>release_year</th>\n",
       "      <th>year_bins</th>\n",
       "    </tr>\n",
       "  </thead>\n",
       "  <tbody>\n",
       "    <tr>\n",
       "      <th>0</th>\n",
       "      <td>2015</td>\n",
       "      <td>2011-2015</td>\n",
       "    </tr>\n",
       "    <tr>\n",
       "      <th>1</th>\n",
       "      <td>2015</td>\n",
       "      <td>2011-2015</td>\n",
       "    </tr>\n",
       "    <tr>\n",
       "      <th>2</th>\n",
       "      <td>2015</td>\n",
       "      <td>2011-2015</td>\n",
       "    </tr>\n",
       "    <tr>\n",
       "      <th>3</th>\n",
       "      <td>2015</td>\n",
       "      <td>2011-2015</td>\n",
       "    </tr>\n",
       "    <tr>\n",
       "      <th>4</th>\n",
       "      <td>2015</td>\n",
       "      <td>2011-2015</td>\n",
       "    </tr>\n",
       "  </tbody>\n",
       "</table>\n",
       "</div>"
      ],
      "text/plain": [
       "   release_year  year_bins\n",
       "0          2015  2011-2015\n",
       "1          2015  2011-2015\n",
       "2          2015  2011-2015\n",
       "3          2015  2011-2015\n",
       "4          2015  2011-2015"
      ]
     },
     "execution_count": 9,
     "metadata": {},
     "output_type": "execute_result"
    }
   ],
   "source": [
    "df_genre[['release_year', 'year_bins']].head()"
   ]
  },
  {
   "cell_type": "code",
   "execution_count": 10,
   "metadata": {
    "scrolled": true
   },
   "outputs": [
    {
     "data": {
      "text/html": [
       "<div>\n",
       "<style scoped>\n",
       "    .dataframe tbody tr th:only-of-type {\n",
       "        vertical-align: middle;\n",
       "    }\n",
       "\n",
       "    .dataframe tbody tr th {\n",
       "        vertical-align: top;\n",
       "    }\n",
       "\n",
       "    .dataframe thead th {\n",
       "        text-align: right;\n",
       "    }\n",
       "</style>\n",
       "<table border=\"1\" class=\"dataframe\">\n",
       "  <thead>\n",
       "    <tr style=\"text-align: right;\">\n",
       "      <th></th>\n",
       "      <th>popularity</th>\n",
       "      <th>original_title</th>\n",
       "      <th>cast</th>\n",
       "      <th>director</th>\n",
       "      <th>keywords</th>\n",
       "      <th>runtime</th>\n",
       "      <th>genres</th>\n",
       "      <th>production_companies</th>\n",
       "      <th>release_date</th>\n",
       "      <th>vote_count</th>\n",
       "      <th>vote_average</th>\n",
       "      <th>release_year</th>\n",
       "      <th>budget_adj</th>\n",
       "      <th>revenue_adj</th>\n",
       "      <th>profit</th>\n",
       "      <th>year_bins</th>\n",
       "    </tr>\n",
       "  </thead>\n",
       "  <tbody>\n",
       "    <tr>\n",
       "      <th>0</th>\n",
       "      <td>32.985763</td>\n",
       "      <td>Jurassic World</td>\n",
       "      <td>Chris Pratt|Bryce Dallas Howard|Irrfan Khan|Vi...</td>\n",
       "      <td>Colin Trevorrow</td>\n",
       "      <td>monster|dna|tyrannosaurus rex|velociraptor|island</td>\n",
       "      <td>124</td>\n",
       "      <td>Action|Adventure|Science Fiction|Thriller</td>\n",
       "      <td>Universal Studios|Amblin Entertainment|Legenda...</td>\n",
       "      <td>2015-06-09</td>\n",
       "      <td>5562</td>\n",
       "      <td>6.5</td>\n",
       "      <td>2015</td>\n",
       "      <td>1.379999e+08</td>\n",
       "      <td>1.392446e+09</td>\n",
       "      <td>1.254446e+09</td>\n",
       "      <td>2011-2015</td>\n",
       "    </tr>\n",
       "  </tbody>\n",
       "</table>\n",
       "</div>"
      ],
      "text/plain": [
       "   popularity  original_title  \\\n",
       "0   32.985763  Jurassic World   \n",
       "\n",
       "                                                cast         director  \\\n",
       "0  Chris Pratt|Bryce Dallas Howard|Irrfan Khan|Vi...  Colin Trevorrow   \n",
       "\n",
       "                                            keywords  runtime  \\\n",
       "0  monster|dna|tyrannosaurus rex|velociraptor|island      124   \n",
       "\n",
       "                                      genres  \\\n",
       "0  Action|Adventure|Science Fiction|Thriller   \n",
       "\n",
       "                                production_companies release_date  vote_count  \\\n",
       "0  Universal Studios|Amblin Entertainment|Legenda...   2015-06-09        5562   \n",
       "\n",
       "   vote_average  release_year    budget_adj   revenue_adj        profit  \\\n",
       "0           6.5          2015  1.379999e+08  1.392446e+09  1.254446e+09   \n",
       "\n",
       "   year_bins  \n",
       "0  2011-2015  "
      ]
     },
     "execution_count": 10,
     "metadata": {},
     "output_type": "execute_result"
    }
   ],
   "source": [
    "df_genre.head(1)"
   ]
  },
  {
   "cell_type": "code",
   "execution_count": 11,
   "metadata": {
    "scrolled": true
   },
   "outputs": [
    {
     "name": "stderr",
     "output_type": "stream",
     "text": [
      "C:\\Users\\MANUEL~1\\AppData\\Local\\Temp/ipykernel_10620/2044205383.py:4: SettingWithCopyWarning: \n",
      "A value is trying to be set on a copy of a slice from a DataFrame\n",
      "\n",
      "See the caveats in the documentation: https://pandas.pydata.org/pandas-docs/stable/user_guide/indexing.html#returning-a-view-versus-a-copy\n",
      "  df_genre['genres'][i] = df_genre['genres'].str.split('|')[i] # ==> No need for the index i here ?\n"
     ]
    }
   ],
   "source": [
    "genres_errors = []\n",
    "for i in range(len(df_genre.genres)):\n",
    "    try:\n",
    "        df_genre['genres'][i] = df_genre['genres'].str.split('|')[i] # ==> No need for the index i here ?\n",
    "        #df_genre[;genres] = df_genre[;genres].str.split('|')\n",
    "        #print(\"i ==> {}\\n;genres name ==> {}\\n;genres first element type ==> {}\\n;genres first element value ==> {}\".format(i, ;genres, type(df_genre[;genres][0]), df_genre[;genres][0]))\n",
    "    except:\n",
    "            genres_errors.append(i)"
   ]
  },
  {
   "cell_type": "code",
   "execution_count": 12,
   "metadata": {
    "collapsed": true
   },
   "outputs": [
    {
     "data": {
      "text/html": [
       "<div>\n",
       "<style scoped>\n",
       "    .dataframe tbody tr th:only-of-type {\n",
       "        vertical-align: middle;\n",
       "    }\n",
       "\n",
       "    .dataframe tbody tr th {\n",
       "        vertical-align: top;\n",
       "    }\n",
       "\n",
       "    .dataframe thead th {\n",
       "        text-align: right;\n",
       "    }\n",
       "</style>\n",
       "<table border=\"1\" class=\"dataframe\">\n",
       "  <thead>\n",
       "    <tr style=\"text-align: right;\">\n",
       "      <th></th>\n",
       "      <th>popularity</th>\n",
       "      <th>original_title</th>\n",
       "      <th>cast</th>\n",
       "      <th>director</th>\n",
       "      <th>keywords</th>\n",
       "      <th>runtime</th>\n",
       "      <th>genres</th>\n",
       "      <th>production_companies</th>\n",
       "      <th>release_date</th>\n",
       "      <th>vote_count</th>\n",
       "      <th>vote_average</th>\n",
       "      <th>release_year</th>\n",
       "      <th>budget_adj</th>\n",
       "      <th>revenue_adj</th>\n",
       "      <th>profit</th>\n",
       "      <th>year_bins</th>\n",
       "    </tr>\n",
       "  </thead>\n",
       "  <tbody>\n",
       "    <tr>\n",
       "      <th>0</th>\n",
       "      <td>32.985763</td>\n",
       "      <td>Jurassic World</td>\n",
       "      <td>Chris Pratt|Bryce Dallas Howard|Irrfan Khan|Vi...</td>\n",
       "      <td>Colin Trevorrow</td>\n",
       "      <td>monster|dna|tyrannosaurus rex|velociraptor|island</td>\n",
       "      <td>124</td>\n",
       "      <td>[Action, Adventure, Science Fiction, Thriller]</td>\n",
       "      <td>Universal Studios|Amblin Entertainment|Legenda...</td>\n",
       "      <td>2015-06-09</td>\n",
       "      <td>5562</td>\n",
       "      <td>6.5</td>\n",
       "      <td>2015</td>\n",
       "      <td>1.379999e+08</td>\n",
       "      <td>1.392446e+09</td>\n",
       "      <td>1.254446e+09</td>\n",
       "      <td>2011-2015</td>\n",
       "    </tr>\n",
       "    <tr>\n",
       "      <th>1</th>\n",
       "      <td>28.419936</td>\n",
       "      <td>Mad Max: Fury Road</td>\n",
       "      <td>Tom Hardy|Charlize Theron|Hugh Keays-Byrne|Nic...</td>\n",
       "      <td>George Miller</td>\n",
       "      <td>future|chase|post-apocalyptic|dystopia|australia</td>\n",
       "      <td>120</td>\n",
       "      <td>[Action, Adventure, Science Fiction, Thriller]</td>\n",
       "      <td>Village Roadshow Pictures|Kennedy Miller Produ...</td>\n",
       "      <td>2015-05-13</td>\n",
       "      <td>6185</td>\n",
       "      <td>7.1</td>\n",
       "      <td>2015</td>\n",
       "      <td>1.379999e+08</td>\n",
       "      <td>3.481613e+08</td>\n",
       "      <td>2.101614e+08</td>\n",
       "      <td>2011-2015</td>\n",
       "    </tr>\n",
       "    <tr>\n",
       "      <th>2</th>\n",
       "      <td>13.112507</td>\n",
       "      <td>Insurgent</td>\n",
       "      <td>Shailene Woodley|Theo James|Kate Winslet|Ansel...</td>\n",
       "      <td>Robert Schwentke</td>\n",
       "      <td>based on novel|revolution|dystopia|sequel|dyst...</td>\n",
       "      <td>119</td>\n",
       "      <td>[Adventure, Science Fiction, Thriller]</td>\n",
       "      <td>Summit Entertainment|Mandeville Films|Red Wago...</td>\n",
       "      <td>2015-03-18</td>\n",
       "      <td>2480</td>\n",
       "      <td>6.3</td>\n",
       "      <td>2015</td>\n",
       "      <td>1.012000e+08</td>\n",
       "      <td>2.716190e+08</td>\n",
       "      <td>1.704191e+08</td>\n",
       "      <td>2011-2015</td>\n",
       "    </tr>\n",
       "    <tr>\n",
       "      <th>3</th>\n",
       "      <td>11.173104</td>\n",
       "      <td>Star Wars: The Force Awakens</td>\n",
       "      <td>Harrison Ford|Mark Hamill|Carrie Fisher|Adam D...</td>\n",
       "      <td>J.J. Abrams</td>\n",
       "      <td>android|spaceship|jedi|space opera|3d</td>\n",
       "      <td>136</td>\n",
       "      <td>[Action, Adventure, Science Fiction, Fantasy]</td>\n",
       "      <td>Lucasfilm|Truenorth Productions|Bad Robot</td>\n",
       "      <td>2015-12-15</td>\n",
       "      <td>5292</td>\n",
       "      <td>7.5</td>\n",
       "      <td>2015</td>\n",
       "      <td>1.839999e+08</td>\n",
       "      <td>1.902723e+09</td>\n",
       "      <td>1.718723e+09</td>\n",
       "      <td>2011-2015</td>\n",
       "    </tr>\n",
       "    <tr>\n",
       "      <th>4</th>\n",
       "      <td>9.335014</td>\n",
       "      <td>Furious 7</td>\n",
       "      <td>Vin Diesel|Paul Walker|Jason Statham|Michelle ...</td>\n",
       "      <td>James Wan</td>\n",
       "      <td>car race|speed|revenge|suspense|car</td>\n",
       "      <td>137</td>\n",
       "      <td>[Action, Crime, Thriller]</td>\n",
       "      <td>Universal Pictures|Original Film|Media Rights ...</td>\n",
       "      <td>2015-04-01</td>\n",
       "      <td>2947</td>\n",
       "      <td>7.3</td>\n",
       "      <td>2015</td>\n",
       "      <td>1.747999e+08</td>\n",
       "      <td>1.385749e+09</td>\n",
       "      <td>1.210949e+09</td>\n",
       "      <td>2011-2015</td>\n",
       "    </tr>\n",
       "    <tr>\n",
       "      <th>...</th>\n",
       "      <td>...</td>\n",
       "      <td>...</td>\n",
       "      <td>...</td>\n",
       "      <td>...</td>\n",
       "      <td>...</td>\n",
       "      <td>...</td>\n",
       "      <td>...</td>\n",
       "      <td>...</td>\n",
       "      <td>...</td>\n",
       "      <td>...</td>\n",
       "      <td>...</td>\n",
       "      <td>...</td>\n",
       "      <td>...</td>\n",
       "      <td>...</td>\n",
       "      <td>...</td>\n",
       "      <td>...</td>\n",
       "    </tr>\n",
       "    <tr>\n",
       "      <th>10719</th>\n",
       "      <td>0.080598</td>\n",
       "      <td>The Endless Summer</td>\n",
       "      <td>Michael Hynson|Robert August|Lord 'Tally Ho' B...</td>\n",
       "      <td>Bruce Brown</td>\n",
       "      <td>surfer|surfboard|surfing</td>\n",
       "      <td>95</td>\n",
       "      <td>[Documentary]</td>\n",
       "      <td>Bruce Brown Films</td>\n",
       "      <td>2066-06-15</td>\n",
       "      <td>11</td>\n",
       "      <td>7.4</td>\n",
       "      <td>1966</td>\n",
       "      <td>0.000000e+00</td>\n",
       "      <td>0.000000e+00</td>\n",
       "      <td>0.000000e+00</td>\n",
       "      <td>1960-1994</td>\n",
       "    </tr>\n",
       "    <tr>\n",
       "      <th>10720</th>\n",
       "      <td>0.065543</td>\n",
       "      <td>Grand Prix</td>\n",
       "      <td>James Garner|Eva Marie Saint|Yves Montand|Tosh...</td>\n",
       "      <td>John Frankenheimer</td>\n",
       "      <td>car race|racing|formula 1</td>\n",
       "      <td>176</td>\n",
       "      <td>[Action, Adventure, Drama]</td>\n",
       "      <td>Cherokee Productions|Joel Productions|Douglas ...</td>\n",
       "      <td>2066-12-21</td>\n",
       "      <td>20</td>\n",
       "      <td>5.7</td>\n",
       "      <td>1966</td>\n",
       "      <td>0.000000e+00</td>\n",
       "      <td>0.000000e+00</td>\n",
       "      <td>0.000000e+00</td>\n",
       "      <td>1960-1994</td>\n",
       "    </tr>\n",
       "    <tr>\n",
       "      <th>10721</th>\n",
       "      <td>0.065141</td>\n",
       "      <td>Beregis Avtomobilya</td>\n",
       "      <td>Innokentiy Smoktunovskiy|Oleg Efremov|Georgi Z...</td>\n",
       "      <td>Eldar Ryazanov</td>\n",
       "      <td>car|trolley|stealing car</td>\n",
       "      <td>94</td>\n",
       "      <td>[Mystery, Comedy]</td>\n",
       "      <td>Mosfilm</td>\n",
       "      <td>2066-01-01</td>\n",
       "      <td>11</td>\n",
       "      <td>6.5</td>\n",
       "      <td>1966</td>\n",
       "      <td>0.000000e+00</td>\n",
       "      <td>0.000000e+00</td>\n",
       "      <td>0.000000e+00</td>\n",
       "      <td>1960-1994</td>\n",
       "    </tr>\n",
       "    <tr>\n",
       "      <th>10722</th>\n",
       "      <td>0.064317</td>\n",
       "      <td>What's Up, Tiger Lily?</td>\n",
       "      <td>Tatsuya Mihashi|Akiko Wakabayashi|Mie Hama|Joh...</td>\n",
       "      <td>Woody Allen</td>\n",
       "      <td>spoof</td>\n",
       "      <td>80</td>\n",
       "      <td>[Action, Comedy]</td>\n",
       "      <td>Benedict Pictures Corp.</td>\n",
       "      <td>2066-11-02</td>\n",
       "      <td>22</td>\n",
       "      <td>5.4</td>\n",
       "      <td>1966</td>\n",
       "      <td>0.000000e+00</td>\n",
       "      <td>0.000000e+00</td>\n",
       "      <td>0.000000e+00</td>\n",
       "      <td>1960-1994</td>\n",
       "    </tr>\n",
       "    <tr>\n",
       "      <th>10723</th>\n",
       "      <td>0.035919</td>\n",
       "      <td>Manos: The Hands of Fate</td>\n",
       "      <td>Harold P. Warren|Tom Neyman|John Reynolds|Dian...</td>\n",
       "      <td>Harold P. Warren</td>\n",
       "      <td>fire|gun|drive|sacrifice|flashlight</td>\n",
       "      <td>74</td>\n",
       "      <td>[Horror]</td>\n",
       "      <td>Norm-Iris</td>\n",
       "      <td>2066-11-15</td>\n",
       "      <td>15</td>\n",
       "      <td>1.5</td>\n",
       "      <td>1966</td>\n",
       "      <td>1.276423e+05</td>\n",
       "      <td>0.000000e+00</td>\n",
       "      <td>-1.276423e+05</td>\n",
       "      <td>1960-1994</td>\n",
       "    </tr>\n",
       "  </tbody>\n",
       "</table>\n",
       "<p>10692 rows × 16 columns</p>\n",
       "</div>"
      ],
      "text/plain": [
       "       popularity                original_title  \\\n",
       "0       32.985763                Jurassic World   \n",
       "1       28.419936            Mad Max: Fury Road   \n",
       "2       13.112507                     Insurgent   \n",
       "3       11.173104  Star Wars: The Force Awakens   \n",
       "4        9.335014                     Furious 7   \n",
       "...           ...                           ...   \n",
       "10719    0.080598            The Endless Summer   \n",
       "10720    0.065543                    Grand Prix   \n",
       "10721    0.065141           Beregis Avtomobilya   \n",
       "10722    0.064317        What's Up, Tiger Lily?   \n",
       "10723    0.035919      Manos: The Hands of Fate   \n",
       "\n",
       "                                                    cast            director  \\\n",
       "0      Chris Pratt|Bryce Dallas Howard|Irrfan Khan|Vi...     Colin Trevorrow   \n",
       "1      Tom Hardy|Charlize Theron|Hugh Keays-Byrne|Nic...       George Miller   \n",
       "2      Shailene Woodley|Theo James|Kate Winslet|Ansel...    Robert Schwentke   \n",
       "3      Harrison Ford|Mark Hamill|Carrie Fisher|Adam D...         J.J. Abrams   \n",
       "4      Vin Diesel|Paul Walker|Jason Statham|Michelle ...           James Wan   \n",
       "...                                                  ...                 ...   \n",
       "10719  Michael Hynson|Robert August|Lord 'Tally Ho' B...         Bruce Brown   \n",
       "10720  James Garner|Eva Marie Saint|Yves Montand|Tosh...  John Frankenheimer   \n",
       "10721  Innokentiy Smoktunovskiy|Oleg Efremov|Georgi Z...      Eldar Ryazanov   \n",
       "10722  Tatsuya Mihashi|Akiko Wakabayashi|Mie Hama|Joh...         Woody Allen   \n",
       "10723  Harold P. Warren|Tom Neyman|John Reynolds|Dian...    Harold P. Warren   \n",
       "\n",
       "                                                keywords  runtime  \\\n",
       "0      monster|dna|tyrannosaurus rex|velociraptor|island      124   \n",
       "1       future|chase|post-apocalyptic|dystopia|australia      120   \n",
       "2      based on novel|revolution|dystopia|sequel|dyst...      119   \n",
       "3                  android|spaceship|jedi|space opera|3d      136   \n",
       "4                    car race|speed|revenge|suspense|car      137   \n",
       "...                                                  ...      ...   \n",
       "10719                           surfer|surfboard|surfing       95   \n",
       "10720                          car race|racing|formula 1      176   \n",
       "10721                           car|trolley|stealing car       94   \n",
       "10722                                              spoof       80   \n",
       "10723                fire|gun|drive|sacrifice|flashlight       74   \n",
       "\n",
       "                                               genres  \\\n",
       "0      [Action, Adventure, Science Fiction, Thriller]   \n",
       "1      [Action, Adventure, Science Fiction, Thriller]   \n",
       "2              [Adventure, Science Fiction, Thriller]   \n",
       "3       [Action, Adventure, Science Fiction, Fantasy]   \n",
       "4                           [Action, Crime, Thriller]   \n",
       "...                                               ...   \n",
       "10719                                   [Documentary]   \n",
       "10720                      [Action, Adventure, Drama]   \n",
       "10721                               [Mystery, Comedy]   \n",
       "10722                                [Action, Comedy]   \n",
       "10723                                        [Horror]   \n",
       "\n",
       "                                    production_companies release_date  \\\n",
       "0      Universal Studios|Amblin Entertainment|Legenda...   2015-06-09   \n",
       "1      Village Roadshow Pictures|Kennedy Miller Produ...   2015-05-13   \n",
       "2      Summit Entertainment|Mandeville Films|Red Wago...   2015-03-18   \n",
       "3              Lucasfilm|Truenorth Productions|Bad Robot   2015-12-15   \n",
       "4      Universal Pictures|Original Film|Media Rights ...   2015-04-01   \n",
       "...                                                  ...          ...   \n",
       "10719                                  Bruce Brown Films   2066-06-15   \n",
       "10720  Cherokee Productions|Joel Productions|Douglas ...   2066-12-21   \n",
       "10721                                            Mosfilm   2066-01-01   \n",
       "10722                            Benedict Pictures Corp.   2066-11-02   \n",
       "10723                                          Norm-Iris   2066-11-15   \n",
       "\n",
       "       vote_count  vote_average  release_year    budget_adj   revenue_adj  \\\n",
       "0            5562           6.5          2015  1.379999e+08  1.392446e+09   \n",
       "1            6185           7.1          2015  1.379999e+08  3.481613e+08   \n",
       "2            2480           6.3          2015  1.012000e+08  2.716190e+08   \n",
       "3            5292           7.5          2015  1.839999e+08  1.902723e+09   \n",
       "4            2947           7.3          2015  1.747999e+08  1.385749e+09   \n",
       "...           ...           ...           ...           ...           ...   \n",
       "10719          11           7.4          1966  0.000000e+00  0.000000e+00   \n",
       "10720          20           5.7          1966  0.000000e+00  0.000000e+00   \n",
       "10721          11           6.5          1966  0.000000e+00  0.000000e+00   \n",
       "10722          22           5.4          1966  0.000000e+00  0.000000e+00   \n",
       "10723          15           1.5          1966  1.276423e+05  0.000000e+00   \n",
       "\n",
       "             profit  year_bins  \n",
       "0      1.254446e+09  2011-2015  \n",
       "1      2.101614e+08  2011-2015  \n",
       "2      1.704191e+08  2011-2015  \n",
       "3      1.718723e+09  2011-2015  \n",
       "4      1.210949e+09  2011-2015  \n",
       "...             ...        ...  \n",
       "10719  0.000000e+00  1960-1994  \n",
       "10720  0.000000e+00  1960-1994  \n",
       "10721  0.000000e+00  1960-1994  \n",
       "10722  0.000000e+00  1960-1994  \n",
       "10723 -1.276423e+05  1960-1994  \n",
       "\n",
       "[10692 rows x 16 columns]"
      ]
     },
     "execution_count": 12,
     "metadata": {},
     "output_type": "execute_result"
    }
   ],
   "source": [
    "df_genre.dropna()"
   ]
  },
  {
   "cell_type": "code",
   "execution_count": 13,
   "metadata": {},
   "outputs": [],
   "source": [
    "#saving our data frame in case anything happens\n",
    "df_genre_original = df_genre.copy()"
   ]
  },
  {
   "cell_type": "code",
   "execution_count": 14,
   "metadata": {},
   "outputs": [],
   "source": [
    "df_genre = df_genre.explode(column='genres')\n",
    "df_genre.dropna(inplace=True)"
   ]
  },
  {
   "cell_type": "code",
   "execution_count": 54,
   "metadata": {},
   "outputs": [],
   "source": [
    "df_genre.to_csv('df_genre.csv')"
   ]
  },
  {
   "cell_type": "code",
   "execution_count": 15,
   "metadata": {
    "collapsed": true
   },
   "outputs": [
    {
     "data": {
      "text/plain": [
       "Index(['popularity', 'original_title', 'cast', 'director', 'keywords',\n",
       "       'runtime', 'genres', 'production_companies', 'release_date',\n",
       "       'vote_count', 'vote_average', 'release_year', 'budget_adj',\n",
       "       'revenue_adj', 'profit', 'year_bins'],\n",
       "      dtype='object')"
      ]
     },
     "execution_count": 15,
     "metadata": {},
     "output_type": "execute_result"
    }
   ],
   "source": [
    "#Scanning out genres\n",
    "df_genre.columns"
   ]
  },
  {
   "cell_type": "markdown",
   "metadata": {},
   "source": [
    "#### Main functions to be used"
   ]
  },
  {
   "cell_type": "code",
   "execution_count": 50,
   "metadata": {},
   "outputs": [],
   "source": [
    "def getheights(df):\n",
    "    heights = []\n",
    "    for genre in df.genres.unique():\n",
    "        x_genre = df.query('genres == \"{}\"'.format(genre))\n",
    "        heights.append(x_genre.popularity.mean())\n",
    "\n",
    "    for i, number in enumerate(heights):\n",
    "        heights[i] = int(round(number, 2) * 100)\n",
    "        \n",
    "    return heights"
   ]
  },
  {
   "cell_type": "code",
   "execution_count": 51,
   "metadata": {},
   "outputs": [],
   "source": [
    "def getbars(df):\n",
    "    bars = df.genres.unique()\n",
    "    return bars"
   ]
  },
  {
   "cell_type": "code",
   "execution_count": 52,
   "metadata": {},
   "outputs": [],
   "source": [
    "def plotbar(plottilte, bars, heights):\n",
    "    y_pos = np.arange(len(bars))\n",
    "\n",
    "    # Create bars\n",
    "    plt.bar(y_pos, heights)\n",
    "\n",
    "    # Create names on the x-axis\n",
    "    plt.xticks(y_pos, bars, rotation=90)\n",
    "\n",
    "    # Add title and axis names\n",
    "    plt.title(plottilte)\n",
    "    plt.xlabel('Genres')\n",
    "    plt.ylabel('Popularity')\n",
    "\n",
    "    # Show graphic\n",
    "    plt.show()"
   ]
  },
  {
   "cell_type": "markdown",
   "metadata": {},
   "source": [
    "### The most popular genres from 1960-1994"
   ]
  },
  {
   "cell_type": "code",
   "execution_count": 43,
   "metadata": {
    "scrolled": true
   },
   "outputs": [],
   "source": [
    "df_genre_1 = df_genre.query('year_bins == \"1960-1994\"')"
   ]
  },
  {
   "cell_type": "code",
   "execution_count": 53,
   "metadata": {
    "scrolled": false
   },
   "outputs": [
    {
     "data": {
      "image/png": "[encoded data removed]",
      "text/plain": [
       "<Figure size 432x288 with 1 Axes>"
      ]
     },
     "metadata": {
      "needs_background": "light"
     },
     "output_type": "display_data"
    }
   ],
   "source": [
    "plotbar('Popularity of genres in the period from 1960 to 1994', getbars(df_genre_1), getheights(df_genre_1))"
   ]
  },
  {
   "cell_type": "markdown",
   "metadata": {},
   "source": [
    "As seen the Animation genre was the most popular which I find as very interesting info here that might explain the reason why the anime is very popular these days. Seems like it's not something new anyways."
   ]
  },
  {
   "cell_type": "markdown",
   "metadata": {},
   "source": [
    "### The most popular genres from 1994 to 2005"
   ]
  },
  {
   "cell_type": "code",
   "execution_count": 55,
   "metadata": {
    "scrolled": true
   },
   "outputs": [],
   "source": [
    "df_genre_2 = df_genre.query('year_bins == \"1994-2005\"')"
   ]
  },
  {
   "cell_type": "code",
   "execution_count": 56,
   "metadata": {
    "scrolled": false
   },
   "outputs": [
    {
     "data": {
      "image/png": "[encoded data removed]",
      "text/plain": [
       "<Figure size 432x288 with 1 Axes>"
      ]
     },
     "metadata": {
      "needs_background": "light"
     },
     "output_type": "display_data"
    }
   ],
   "source": [
    "plotbar('Popularity of genres in the period from 1994 to 2005', getbars(df_genre_2), getheights(df_genre_2))"
   ]
  },
  {
   "cell_type": "markdown",
   "metadata": {},
   "source": [
    "Fantasy took over here in the next era. Seems imagination was the key back then."
   ]
  },
  {
   "cell_type": "markdown",
   "metadata": {},
   "source": [
    "### The most popular genres from 2005 to 2011"
   ]
  },
  {
   "cell_type": "code",
   "execution_count": 57,
   "metadata": {
    "scrolled": true
   },
   "outputs": [],
   "source": [
    "df_genre_3 = df_genre.query('year_bins == \"2005-2011\"')"
   ]
  },
  {
   "cell_type": "code",
   "execution_count": 58,
   "metadata": {
    "scrolled": false
   },
   "outputs": [
    {
     "data": {
      "image/png": "[encoded data removed]",
      "text/plain": [
       "<Figure size 432x288 with 1 Axes>"
      ]
     },
     "metadata": {
      "needs_background": "light"
     },
     "output_type": "display_data"
    }
   ],
   "source": [
    "plotbar('Popularity of genres in the period from 2005 to 2011', getbars(df_genre_3), getheights(df_genre_3))"
   ]
  },
  {
   "cell_type": "markdown",
   "metadata": {},
   "source": [
    "we here see some kind other types become to be more popular but Adventure is the highest."
   ]
  },
  {
   "cell_type": "markdown",
   "metadata": {},
   "source": [
    "### The most popular genres from 2011 to 2015"
   ]
  },
  {
   "cell_type": "code",
   "execution_count": 59,
   "metadata": {
    "scrolled": true
   },
   "outputs": [],
   "source": [
    "df_genre_4 = df_genre.query('year_bins == \"2011-2015\"')"
   ]
  },
  {
   "cell_type": "code",
   "execution_count": 60,
   "metadata": {
    "scrolled": false
   },
   "outputs": [
    {
     "data": {
      "image/png": "[encoded data removed]",
      "text/plain": [
       "<Figure size 432x288 with 1 Axes>"
      ]
     },
     "metadata": {
      "needs_background": "light"
     },
     "output_type": "display_data"
    }
   ],
   "source": [
    "plotbar('Popularity of genres in the period from 2011 to 2015', getbars(df_genre_4), getheights(df_genre_4))"
   ]
  },
  {
   "cell_type": "markdown",
   "metadata": {},
   "source": [
    "As we can see the Adventure is the highest and consistant till 2015"
   ]
  },
  {
   "cell_type": "markdown",
   "metadata": {},
   "source": [
    "### The most popular genres for all times"
   ]
  },
  {
   "cell_type": "code",
   "execution_count": 61,
   "metadata": {
    "scrolled": false
   },
   "outputs": [
    {
     "data": {
      "image/png": "[encoded data removed]",
      "text/plain": [
       "<Figure size 432x288 with 1 Axes>"
      ]
     },
     "metadata": {
      "needs_background": "light"
     },
     "output_type": "display_data"
    }
   ],
   "source": [
    "plotbar('Popularity of genres in the period from 1994 to 2005', getbars(df_genre), getheights(df_genre))"
   ]
  },
  {
   "cell_type": "markdown",
   "metadata": {},
   "source": [
    "It's normal now to find that adventure is the most popular of all time"
   ]
  },
  {
   "cell_type": "markdown",
   "metadata": {},
   "source": [
    "### Top Recorded Genres of all time:"
   ]
  },
  {
   "cell_type": "code",
   "execution_count": 63,
   "metadata": {
    "scrolled": false
   },
   "outputs": [
    {
     "data": {
      "image/png": "[encoded data removed]",
      "text/plain": [
       "<Figure size 432x288 with 1 Axes>"
      ]
     },
     "metadata": {
      "needs_background": "light"
     },
     "output_type": "display_data"
    }
   ],
   "source": [
    "df_genre.genres.value_counts().plot(kind='bar', xlabel=\"Genre\", ylabel=\"Number of occurance\", title='Genres vs their occurance');"
   ]
  },
  {
   "cell_type": "markdown",
   "metadata": {},
   "source": [
    "Despite the fact that adventure is the most popular genre, yet it's not the most occured on our database, however, Drama is."
   ]
  },
  {
   "cell_type": "markdown",
   "metadata": {},
   "source": [
    "### Percentage of recorded year bins"
   ]
  },
  {
   "cell_type": "code",
   "execution_count": 65,
   "metadata": {
    "scrolled": true
   },
   "outputs": [
    {
     "data": {
      "image/png": "[encoded data removed]",
      "text/plain": [
       "<Figure size 468x432 with 1 Axes>"
      ]
     },
     "metadata": {},
     "output_type": "display_data"
    }
   ],
   "source": [
    "df_genre.groupby('year_bins')['genres'].count().plot(kind='pie', autopct='%1.0f%%', pctdistance=0.4, labeldistance=1.1,figsize=(6.5,6), ylabel=\"\", title='Percentage of occurance of each year bin in our database');"
   ]
  },
  {
   "cell_type": "markdown",
   "metadata": {},
   "source": [
    "the biggest data is for the time from 1994 to 2005"
   ]
  },
  {
   "cell_type": "markdown",
   "metadata": {},
   "source": [
    "### Research Question 2  (Characteristics of highest profitable movies)"
   ]
  },
  {
   "cell_type": "code",
   "execution_count": 82,
   "metadata": {
    "scrolled": false
   },
   "outputs": [
    {
     "data": {
      "text/html": [
       "<div>\n",
       "<style scoped>\n",
       "    .dataframe tbody tr th:only-of-type {\n",
       "        vertical-align: middle;\n",
       "    }\n",
       "\n",
       "    .dataframe tbody tr th {\n",
       "        vertical-align: top;\n",
       "    }\n",
       "\n",
       "    .dataframe thead th {\n",
       "        text-align: right;\n",
       "    }\n",
       "</style>\n",
       "<table border=\"1\" class=\"dataframe\">\n",
       "  <thead>\n",
       "    <tr style=\"text-align: right;\">\n",
       "      <th></th>\n",
       "      <th>popularity</th>\n",
       "      <th>original_title</th>\n",
       "      <th>cast</th>\n",
       "      <th>director</th>\n",
       "      <th>keywords</th>\n",
       "      <th>runtime</th>\n",
       "      <th>genres</th>\n",
       "      <th>production_companies</th>\n",
       "      <th>release_date</th>\n",
       "      <th>vote_count</th>\n",
       "      <th>vote_average</th>\n",
       "      <th>release_year</th>\n",
       "      <th>budget_adj</th>\n",
       "      <th>revenue_adj</th>\n",
       "      <th>profit</th>\n",
       "    </tr>\n",
       "  </thead>\n",
       "  <tbody>\n",
       "    <tr>\n",
       "      <th>0</th>\n",
       "      <td>32.985763</td>\n",
       "      <td>Jurassic World</td>\n",
       "      <td>Chris Pratt|Bryce Dallas Howard|Irrfan Khan|Vi...</td>\n",
       "      <td>Colin Trevorrow</td>\n",
       "      <td>monster|dna|tyrannosaurus rex|velociraptor|island</td>\n",
       "      <td>124</td>\n",
       "      <td>Action|Adventure|Science Fiction|Thriller</td>\n",
       "      <td>Universal Studios|Amblin Entertainment|Legenda...</td>\n",
       "      <td>2015-06-09</td>\n",
       "      <td>5562</td>\n",
       "      <td>6.5</td>\n",
       "      <td>2015</td>\n",
       "      <td>1.379999e+08</td>\n",
       "      <td>1.392446e+09</td>\n",
       "      <td>1.254446e+09</td>\n",
       "    </tr>\n",
       "  </tbody>\n",
       "</table>\n",
       "</div>"
      ],
      "text/plain": [
       "   popularity  original_title  \\\n",
       "0   32.985763  Jurassic World   \n",
       "\n",
       "                                                cast         director  \\\n",
       "0  Chris Pratt|Bryce Dallas Howard|Irrfan Khan|Vi...  Colin Trevorrow   \n",
       "\n",
       "                                            keywords  runtime  \\\n",
       "0  monster|dna|tyrannosaurus rex|velociraptor|island      124   \n",
       "\n",
       "                                      genres  \\\n",
       "0  Action|Adventure|Science Fiction|Thriller   \n",
       "\n",
       "                                production_companies release_date  vote_count  \\\n",
       "0  Universal Studios|Amblin Entertainment|Legenda...   2015-06-09        5562   \n",
       "\n",
       "   vote_average  release_year    budget_adj   revenue_adj        profit  \n",
       "0           6.5          2015  1.379999e+08  1.392446e+09  1.254446e+09  "
      ]
     },
     "execution_count": 82,
     "metadata": {},
     "output_type": "execute_result"
    }
   ],
   "source": [
    "df = pd.read_csv('df_main_clean.csv', index_col=[0])\n",
    "df.head(1)"
   ]
  },
  {
   "cell_type": "code",
   "execution_count": 67,
   "metadata": {
    "scrolled": true
   },
   "outputs": [
    {
     "data": {
      "text/plain": [
       "count    1.072400e+04\n",
       "mean     3.426328e+07\n",
       "std      1.259792e+08\n",
       "min     -4.139124e+08\n",
       "25%      0.000000e+00\n",
       "50%      0.000000e+00\n",
       "75%      1.386692e+07\n",
       "max      2.750137e+09\n",
       "Name: profit, dtype: float64"
      ]
     },
     "execution_count": 67,
     "metadata": {},
     "output_type": "execute_result"
    }
   ],
   "source": [
    "df.profit.describe()"
   ]
  },
  {
   "cell_type": "code",
   "execution_count": 68,
   "metadata": {
    "scrolled": true
   },
   "outputs": [
    {
     "data": {
      "text/plain": [
       "13866919.369998574"
      ]
     },
     "execution_count": 68,
     "metadata": {},
     "output_type": "execute_result"
    }
   ],
   "source": [
    "df.profit.describe()[6]"
   ]
  },
  {
   "cell_type": "markdown",
   "metadata": {},
   "source": [
    "lets divide the data with the profit delimeter of 13866919 "
   ]
  },
  {
   "cell_type": "code",
   "execution_count": 85,
   "metadata": {
    "scrolled": true
   },
   "outputs": [
    {
     "data": {
      "text/html": [
       "<div>\n",
       "<style scoped>\n",
       "    .dataframe tbody tr th:only-of-type {\n",
       "        vertical-align: middle;\n",
       "    }\n",
       "\n",
       "    .dataframe tbody tr th {\n",
       "        vertical-align: top;\n",
       "    }\n",
       "\n",
       "    .dataframe thead th {\n",
       "        text-align: right;\n",
       "    }\n",
       "</style>\n",
       "<table border=\"1\" class=\"dataframe\">\n",
       "  <thead>\n",
       "    <tr style=\"text-align: right;\">\n",
       "      <th></th>\n",
       "      <th>popularity</th>\n",
       "      <th>runtime</th>\n",
       "      <th>vote_count</th>\n",
       "      <th>vote_average</th>\n",
       "      <th>release_year</th>\n",
       "      <th>budget_adj</th>\n",
       "      <th>revenue_adj</th>\n",
       "      <th>profit</th>\n",
       "    </tr>\n",
       "  </thead>\n",
       "  <tbody>\n",
       "    <tr>\n",
       "      <th>count</th>\n",
       "      <td>2681.000000</td>\n",
       "      <td>2681.000000</td>\n",
       "      <td>2681.000000</td>\n",
       "      <td>2681.000000</td>\n",
       "      <td>2681.000000</td>\n",
       "      <td>2.681000e+03</td>\n",
       "      <td>2.681000e+03</td>\n",
       "      <td>2.681000e+03</td>\n",
       "    </tr>\n",
       "    <tr>\n",
       "      <th>mean</th>\n",
       "      <td>1.411325</td>\n",
       "      <td>110.854905</td>\n",
       "      <td>675.210742</td>\n",
       "      <td>6.294666</td>\n",
       "      <td>1998.876912</td>\n",
       "      <td>4.547544e+07</td>\n",
       "      <td>1.951372e+08</td>\n",
       "      <td>1.496617e+08</td>\n",
       "    </tr>\n",
       "    <tr>\n",
       "      <th>std</th>\n",
       "      <td>1.679126</td>\n",
       "      <td>23.096073</td>\n",
       "      <td>1000.150805</td>\n",
       "      <td>0.744095</td>\n",
       "      <td>12.509152</td>\n",
       "      <td>4.928683e+07</td>\n",
       "      <td>2.383068e+08</td>\n",
       "      <td>2.124452e+08</td>\n",
       "    </tr>\n",
       "    <tr>\n",
       "      <th>min</th>\n",
       "      <td>0.010335</td>\n",
       "      <td>26.000000</td>\n",
       "      <td>10.000000</td>\n",
       "      <td>3.100000</td>\n",
       "      <td>1960.000000</td>\n",
       "      <td>0.000000e+00</td>\n",
       "      <td>1.387205e+07</td>\n",
       "      <td>1.387205e+07</td>\n",
       "    </tr>\n",
       "    <tr>\n",
       "      <th>25%</th>\n",
       "      <td>0.549206</td>\n",
       "      <td>96.000000</td>\n",
       "      <td>106.000000</td>\n",
       "      <td>5.800000</td>\n",
       "      <td>1990.000000</td>\n",
       "      <td>9.947032e+06</td>\n",
       "      <td>5.876984e+07</td>\n",
       "      <td>3.615428e+07</td>\n",
       "    </tr>\n",
       "    <tr>\n",
       "      <th>50%</th>\n",
       "      <td>0.975473</td>\n",
       "      <td>107.000000</td>\n",
       "      <td>304.000000</td>\n",
       "      <td>6.300000</td>\n",
       "      <td>2002.000000</td>\n",
       "      <td>3.000000e+07</td>\n",
       "      <td>1.126200e+08</td>\n",
       "      <td>7.536672e+07</td>\n",
       "    </tr>\n",
       "    <tr>\n",
       "      <th>75%</th>\n",
       "      <td>1.651962</td>\n",
       "      <td>121.000000</td>\n",
       "      <td>786.000000</td>\n",
       "      <td>6.800000</td>\n",
       "      <td>2009.000000</td>\n",
       "      <td>6.545264e+07</td>\n",
       "      <td>2.324602e+08</td>\n",
       "      <td>1.678548e+08</td>\n",
       "    </tr>\n",
       "    <tr>\n",
       "      <th>max</th>\n",
       "      <td>32.985763</td>\n",
       "      <td>705.000000</td>\n",
       "      <td>9767.000000</td>\n",
       "      <td>8.300000</td>\n",
       "      <td>2015.000000</td>\n",
       "      <td>3.683713e+08</td>\n",
       "      <td>2.827124e+09</td>\n",
       "      <td>2.750137e+09</td>\n",
       "    </tr>\n",
       "  </tbody>\n",
       "</table>\n",
       "</div>"
      ],
      "text/plain": [
       "        popularity      runtime   vote_count  vote_average  release_year  \\\n",
       "count  2681.000000  2681.000000  2681.000000   2681.000000   2681.000000   \n",
       "mean      1.411325   110.854905   675.210742      6.294666   1998.876912   \n",
       "std       1.679126    23.096073  1000.150805      0.744095     12.509152   \n",
       "min       0.010335    26.000000    10.000000      3.100000   1960.000000   \n",
       "25%       0.549206    96.000000   106.000000      5.800000   1990.000000   \n",
       "50%       0.975473   107.000000   304.000000      6.300000   2002.000000   \n",
       "75%       1.651962   121.000000   786.000000      6.800000   2009.000000   \n",
       "max      32.985763   705.000000  9767.000000      8.300000   2015.000000   \n",
       "\n",
       "         budget_adj   revenue_adj        profit  \n",
       "count  2.681000e+03  2.681000e+03  2.681000e+03  \n",
       "mean   4.547544e+07  1.951372e+08  1.496617e+08  \n",
       "std    4.928683e+07  2.383068e+08  2.124452e+08  \n",
       "min    0.000000e+00  1.387205e+07  1.387205e+07  \n",
       "25%    9.947032e+06  5.876984e+07  3.615428e+07  \n",
       "50%    3.000000e+07  1.126200e+08  7.536672e+07  \n",
       "75%    6.545264e+07  2.324602e+08  1.678548e+08  \n",
       "max    3.683713e+08  2.827124e+09  2.750137e+09  "
      ]
     },
     "execution_count": 85,
     "metadata": {},
     "output_type": "execute_result"
    }
   ],
   "source": [
    "df_profitable_movies = df.query('profit > 13866919.369998574')\n",
    "df_profitable_movies.describe()"
   ]
  },
  {
   "cell_type": "code",
   "execution_count": 87,
   "metadata": {},
   "outputs": [
    {
     "data": {
      "image/png": "[encoded data removed]",
      "text/plain": [
       "<Figure size 1080x1080 with 9 Axes>"
      ]
     },
     "metadata": {
      "needs_background": "light"
     },
     "output_type": "display_data"
    }
   ],
   "source": [
    "df_profitable_movies.hist(figsize=(15, 15));"
   ]
  },
  {
   "cell_type": "code",
   "execution_count": 110,
   "metadata": {
    "scrolled": true
   },
   "outputs": [
    {
     "data": {
      "text/plain": [
       "0        Action|Adventure|Science Fiction|Thriller\n",
       "1        Action|Adventure|Science Fiction|Thriller\n",
       "2               Adventure|Science Fiction|Thriller\n",
       "3         Action|Adventure|Science Fiction|Fantasy\n",
       "4                            Action|Crime|Thriller\n",
       "                           ...                    \n",
       "10677                                Action|Comedy\n",
       "10680                                        Drama\n",
       "10686                             Mystery|Thriller\n",
       "10693           Action|Adventure|Drama|War|Romance\n",
       "10706                    Adventure|Science Fiction\n",
       "Name: genres, Length: 2681, dtype: object"
      ]
     },
     "execution_count": 110,
     "metadata": {},
     "output_type": "execute_result"
    }
   ],
   "source": [
    "df.query('profit > 13866919.369998574')['genres']"
   ]
  },
  {
   "cell_type": "markdown",
   "metadata": {},
   "source": [
    "### High profitable genres"
   ]
  },
  {
   "cell_type": "code",
   "execution_count": 95,
   "metadata": {},
   "outputs": [],
   "source": [
    "df_genre_high_profitable = df_genre.query('profit > 13866919.369998574')"
   ]
  },
  {
   "cell_type": "code",
   "execution_count": 111,
   "metadata": {
    "scrolled": false
   },
   "outputs": [
    {
     "data": {
      "text/plain": [
       "<AxesSubplot:title={'center':'MEan profits for each type of genre'}, xlabel='Genre', ylabel='Average profit'>"
      ]
     },
     "execution_count": 111,
     "metadata": {},
     "output_type": "execute_result"
    },
    {
     "data": {
      "image/png": "[encoded data removed]",
      "text/plain": [
       "<Figure size 432x288 with 1 Axes>"
      ]
     },
     "metadata": {
      "needs_background": "light"
     },
     "output_type": "display_data"
    }
   ],
   "source": [
    "df_genre_high_profitable.groupby('genres')['profit'].mean().plot(kind='bar', xlabel='Genre', ylabel='Average profit', title='MEan profits for each type of genre')"
   ]
  },
  {
   "cell_type": "markdown",
   "metadata": {},
   "source": [
    "The animation movies takes the first place as the highest profitable genre type movie."
   ]
  },
  {
   "cell_type": "markdown",
   "metadata": {},
   "source": [
    "<a id='conclusions'></a>\n",
    "## Conclusions\n",
    "\n",
    "</br> **1**: Although action and drama may be our first guess here for the most popular genres of all time, yet the Adventure holds the first place for the most popular genre of all time followed by Science fiction and fantasy.\n",
    "</br> **2**: The characteristics of the most profitable movies is budget not less than 4.547544e+07, runtime no more than 2.7 hours, voting not less than 6 and genres to be either animation or adventure.\n",
    "\n",
    "### Limitations\n",
    "\n",
    "</br> **1**: The data only covers recorded periods from 1960 to 2015.\n",
    "</br> **2**: There were no single instance for each genre by itself, instead I used the explode method to duplicate any row with all values but only different genre. This was because each movie could include more than one genre.\n"
   ]
  },
  {
   "cell_type": "code",
   "execution_count": 112,
   "metadata": {},
   "outputs": [],
   "source": [
    "# from subprocess import call\n",
    "# call(['python', '-m', 'nbconvert', 'Investigate_a_Dataset.ipynb'])"
   ]
  },
  {
   "cell_type": "code",
   "execution_count": null,
   "metadata": {},
   "outputs": [],
   "source": []
  }
 ],
 "metadata": {
  "kernelspec": {
   "display_name": "Python 3 (ipykernel)",
   "language": "python",
   "name": "python3"
  },
  "language_info": {
   "codemirror_mode": {
    "name": "ipython",
    "version": 3
   },
   "file_extension": ".py",
   "mimetype": "text/x-python",
   "name": "python",
   "nbconvert_exporter": "python",
   "pygments_lexer": "ipython3",
   "version": "3.9.7"
  }
 },
 "nbformat": 4,
 "nbformat_minor": 2
}
